{
 "cells": [
  {
   "cell_type": "code",
   "execution_count": 19,
   "id": "a0bc4f70",
   "metadata": {},
   "outputs": [
    {
     "name": "stdout",
     "output_type": "stream",
     "text": [
      "I’m currently living here, it is a friendly and safe place. The fire alarms definitely work 🚨, the study rooms are nice to do work in📚, and you can relieve some stress with a nice workout in the lobby gym. Maintenance is also conveniently easy to contact and Gavin always gets the job done well 🔥.\n"
     ]
    }
   ],
   "source": [
    "from selenium import webdriver\n",
    "from selenium.webdriver.chrome.service import Service\n",
    "from selenium.webdriver.common.keys import Keys\n",
    "from selenium.webdriver.common.by import By\n",
    "from selenium.webdriver.common.action_chains import ActionChains\n",
    "from selenium.webdriver.support.ui import WebDriverWait\n",
    "from selenium.webdriver.support import expected_conditions as EC\n",
    "import csv\n",
    "import time\n",
    "\n",
    "PATH = Service(\"C:\\Program Files (x86)\\chromedriver.exe\")\n",
    "driver = webdriver.Chrome(service=PATH)\n",
    "url = \"https://www.google.com/\"\n",
    "driver.get(url)\n",
    "\n",
    "search = driver.find_element(By.ID, \"APjFqb\")\n",
    "search.clear()\n",
    "search.send_keys(\"Twin River Commons\")\n",
    "search.send_keys(Keys.RETURN)\n",
    "\n",
    "reviews_link = WebDriverWait(driver, 10).until(EC.presence_of_element_located((By.PARTIAL_LINK_TEXT, \"Google reviews\")))\n",
    "reviews_link.click()\n",
    "reviews_window = WebDriverWait(driver, 10).until(EC.presence_of_element_located((By.CLASS_NAME, \"review-dialog-list\")))\n",
    "reviews_list = WebDriverWait(driver, 10).until(EC.presence_of_element_located((By.CLASS_NAME, \"Opirzb\")))\n",
    "first_review = driver.find_element(By.XPATH, \".//span[@jscontroller='MZnM8e']/span\")\n",
    "print(first_review.text)\n",
    "                            \n",
    "for steps in range(0, 100):\n",
    "    first_review.send_keys(Keys.CONTROL + Keys.END)\n",
    "    time.sleep(0.5)"
   ]
  }
 ],
 "metadata": {
  "kernelspec": {
   "display_name": "Python 3 (ipykernel)",
   "language": "python",
   "name": "python3"
  },
  "language_info": {
   "codemirror_mode": {
    "name": "ipython",
    "version": 3
   },
   "file_extension": ".py",
   "mimetype": "text/x-python",
   "name": "python",
   "nbconvert_exporter": "python",
   "pygments_lexer": "ipython3",
   "version": "3.9.13"
  }
 },
 "nbformat": 4,
 "nbformat_minor": 5
}
