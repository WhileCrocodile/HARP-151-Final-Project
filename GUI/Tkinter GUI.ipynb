{
 "cells": [
  {
   "cell_type": "code",
   "execution_count": 1,
   "id": "e634b813",
   "metadata": {},
   "outputs": [
    {
     "ename": "SyntaxError",
     "evalue": "invalid syntax (2014508868.py, line 42)",
     "output_type": "error",
     "traceback": [
      "\u001b[1;36m  Cell \u001b[1;32mIn[1], line 42\u001b[1;36m\u001b[0m\n\u001b[1;33m    def mainloop(self):\u001b[0m\n\u001b[1;37m    ^\u001b[0m\n\u001b[1;31mSyntaxError\u001b[0m\u001b[1;31m:\u001b[0m invalid syntax\n"
     ]
    }
   ],
   "source": [
    "# https://www.geeksforgeeks.org/creating-tabbed-widget-with-python-tkinter/#\n",
    "# https://www.pythontutorial.net/tkinter/tkinter-treeview/\n",
    "\n",
    "import tkinter as tk\n",
    "from tkinter import ttk\n",
    "\n",
    "class MainWindow:\n",
    "    def __init__(self):\n",
    "        self.root = tk.Tk()\n",
    "        self.root.title(\"Binghamton Apartment Comparison Tool\")\n",
    "        self.init_tabs()\n",
    "        self.init_tables()\n",
    "        \n",
    "    def init_tabs(self):\n",
    "        self.tabs_widget = ttk.Notebook(self.root)\n",
    "        self.all_tabs = []\n",
    "        \n",
    "        locations = (\"UClub\", \"20 Hawley\", \"Twin River Commons\", \"Printing House\")\n",
    "        for location in locations:\n",
    "            new_tab = ttk.Frame(self.tabs_widget)\n",
    "            self.tabs_widget.add(new_tab, text=location)\n",
    "            self.all_tabs.append(new_tab)\n",
    "        self.tabs_widget.pack()\n",
    "    \n",
    "    def init_tables(self):\n",
    "        self.all_tables = []\n",
    "        \n",
    "        columns = (\"Column 1\", \"Column 2\", \"Column 3\")\n",
    "        for tab in self.all_tabs:\n",
    "            new_table = ttk.Treeview(tab, columns=columns, show=\"headings\")\n",
    "            for column in columns:\n",
    "                new_table.heading(column, text=column)\n",
    "            new_table.pack()\n",
    "            self.all_tables.append(new_table)\n",
    "    \n",
    "    def import_data(table_idex, csv_path):\n",
    "        # Use the syntax mytable.insert(\"\", tk.END, values=(column1value, column2value, ...))\n",
    "        pass\n",
    "    \n",
    "    def sort_column(\n",
    "    \n",
    "    def mainloop(self):\n",
    "        self.root.mainloop()\n",
    "\n",
    "window = MainWindow()\n",
    "window.mainloop()"
   ]
  }
 ],
 "metadata": {
  "kernelspec": {
   "display_name": "Python 3 (ipykernel)",
   "language": "python",
   "name": "python3"
  },
  "language_info": {
   "codemirror_mode": {
    "name": "ipython",
    "version": 3
   },
   "file_extension": ".py",
   "mimetype": "text/x-python",
   "name": "python",
   "nbconvert_exporter": "python",
   "pygments_lexer": "ipython3",
   "version": "3.9.13"
  }
 },
 "nbformat": 4,
 "nbformat_minor": 5
}
