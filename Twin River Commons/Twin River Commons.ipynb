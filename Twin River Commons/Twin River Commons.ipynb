{
 "cells": [
  {
   "cell_type": "markdown",
   "id": "8d8deedd",
   "metadata": {},
   "source": [
    "We first get basic details about room pricing."
   ]
  },
  {
   "cell_type": "code",
   "execution_count": 1,
   "id": "9bba6fd0",
   "metadata": {},
   "outputs": [],
   "source": [
    "from selenium import webdriver\n",
    "from selenium.webdriver.chrome.service import Service\n",
    "from selenium.webdriver.common.keys import Keys\n",
    "from selenium.webdriver.common.by import By\n",
    "from selenium.webdriver.common.action_chains import ActionChains\n",
    "from selenium.webdriver.support.ui import WebDriverWait\n",
    "from selenium.webdriver.support import expected_conditions as EC\n",
    "import csv\n",
    "\n",
    "PATH = Service(\"C:\\Program Files (x86)\\chromedriver.exe\")\n",
    "driver = webdriver.Chrome(service=PATH)\n",
    "rooms_url = \"https://www.twinrivercommons.com/apartments/ny/binghamton/floor-plans#/\"\n",
    "driver.get(rooms_url)\n",
    "\n",
    "try:\n",
    "    floor_plans = WebDriverWait(driver, 10).until(EC.presence_of_element_located((By.XPATH, \"//div[@class='layout card-grid wrap mb-3']\")))\n",
    "    cards = floor_plans.find_elements(By.XPATH, \"//div[@class='flex card-container']\")\n",
    "    with open(\"twin_river_commons_apartments.csv\", \"w\", newline=\"\", encoding=\"utf-8\") as apartments_csv:\n",
    "        csv_writer = csv.writer(apartments_csv)\n",
    "        csv_writer.writerow([\"name\", \"beds\", \"baths\", \"size\", \"price\"])\n",
    "        for card in cards:\n",
    "            details = card.text.split(\"\\n\")\n",
    "            name = details[0]\n",
    "            beds = details[1]\n",
    "            baths = details[2]\n",
    "            size = details[3]\n",
    "            price = details[4][5:]\n",
    "            csv_writer.writerow([name, beds, baths, size, price])\n",
    "finally:\n",
    "    driver.quit()"
   ]
  },
  {
   "cell_type": "markdown",
   "id": "c8f2a488",
   "metadata": {},
   "source": [
    "We then get details about available amenities."
   ]
  },
  {
   "cell_type": "code",
   "execution_count": 2,
   "id": "35688905",
   "metadata": {},
   "outputs": [],
   "source": [
    "from selenium import webdriver\n",
    "from selenium.webdriver.chrome.service import Service\n",
    "from selenium.webdriver.common.keys import Keys\n",
    "from selenium.webdriver.common.by import By\n",
    "from selenium.webdriver.common.action_chains import ActionChains\n",
    "from selenium.webdriver.support.ui import WebDriverWait\n",
    "from selenium.webdriver.support import expected_conditions as EC\n",
    "import csv\n",
    "\n",
    "PATH = Service(\"C:/Program Files (x86)/chromedriver.exe\")\n",
    "driver = webdriver.Chrome(service=PATH)\n",
    "amenities_url = \"https://www.twinrivercommons.com/apartments/ny/binghamton/amenities\"\n",
    "driver.get(amenities_url)\n",
    "\n",
    "try:\n",
    "    amenities_container = WebDriverWait(driver, 10).until(EC.presence_of_element_located((By.XPATH, \"//section[@id='drop-target-main']\")))\n",
    "    amenities_categories = amenities_container.find_elements(By.XPATH, \"//div[contains(@class, 'html-content')]\")\n",
    "    with open(\"twin_river_commons_amenities.csv\", \"w\", newline=\"\", encoding=\"utf-8\") as amenities_csv:\n",
    "        csv_writer = csv.writer(amenities_csv)\n",
    "        csv_writer.writerow([\"Amenities\"])\n",
    "        # Ignores some non-relevant blocks\n",
    "        for category in amenities_categories[1:4]:\n",
    "            amenities = category.find_elements(By.XPATH, \".//p\")\n",
    "            # Also ignores some non-relevant blocks\n",
    "            for amenity in amenities[2:]:\n",
    "                # Excludes empty (separator) rows\n",
    "                if amenity.text != \" \":\n",
    "                    csv_writer.writerow([amenity.text])\n",
    "finally:\n",
    "    driver.quit()"
   ]
  }
 ],
 "metadata": {
  "kernelspec": {
   "display_name": "Python 3 (ipykernel)",
   "language": "python",
   "name": "python3"
  },
  "language_info": {
   "codemirror_mode": {
    "name": "ipython",
    "version": 3
   },
   "file_extension": ".py",
   "mimetype": "text/x-python",
   "name": "python",
   "nbconvert_exporter": "python",
   "pygments_lexer": "ipython3",
   "version": "3.10.9"
  }
 },
 "nbformat": 4,
 "nbformat_minor": 5
}
