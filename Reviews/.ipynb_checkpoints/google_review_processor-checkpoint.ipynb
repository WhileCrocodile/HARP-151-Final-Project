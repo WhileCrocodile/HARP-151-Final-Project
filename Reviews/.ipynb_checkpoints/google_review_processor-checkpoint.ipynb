{
 "cells": [
  {
   "cell_type": "code",
   "execution_count": 2,
   "id": "4042b52a",
   "metadata": {},
   "outputs": [
    {
     "name": "stdout",
     "output_type": "stream",
     "text": [
      "20 Hawley's Average Rating: 4.66 out of 5\n",
      "Printing House's Average Rating: 4.48 out of 5\n",
      "Twin River Commons's Average Rating: 4.25 out of 5\n",
      "UClub's Average Rating: 3.28 out of 5\n"
     ]
    }
   ],
   "source": [
    "import pandas as pd\n",
    "import statistics\n",
    "\n",
    "# Finding the average reviews of each location\n",
    "review_files = {\"google_reviews_20hawley.csv\": \"20 Hawley\", \n",
    "                \"google_reviews_printinghouse.csv\": \"Printing House\", \n",
    "                \"google_reviews_twinriver.csv\": \"Twin River Commons\", \n",
    "                \"google_reviews_uclub.csv\": \"UClub\"}\n",
    "\n",
    "for review_filename, location_name in review_files.items():\n",
    "    review_df = pd.read_csv(review_filename)\n",
    "    rating = review_df.rating\n",
    "    rating_mean = statistics.mean(rating)\n",
    "    rating_mean = round(rating_mean, 2)\n",
    "    print(f\"{location_name}'s Average Rating: {rating_mean} out of 5\")\n",
    "    \n",
    "    "
   ]
  },
  {
   "cell_type": "code",
   "execution_count": null,
   "id": "1dbd9f75",
   "metadata": {},
   "outputs": [],
   "source": [
    "# It was a mistake to format the reviews as #/5, \n",
    "# so I'm fixing that here after the fact now\n",
    "# I'll fix the original review scraping code to\n",
    "# reflect this change as well\n",
    "\n",
    "# I'm only writing this to run this once, but running it\n",
    "# more than once won't break anything\n",
    "\n",
    "for review_filename, location_name in review_files.items():\n",
    "    review_df = pd.read_csv(review_filename)\n",
    "    review_df.rating = review_df.rating.str[0]\n",
    "    rating = review_df.rating\n",
    "    review_df.to_csv(review_filename, index=False)"
   ]
  }
 ],
 "metadata": {
  "kernelspec": {
   "display_name": "Python 3 (ipykernel)",
   "language": "python",
   "name": "python3"
  },
  "language_info": {
   "codemirror_mode": {
    "name": "ipython",
    "version": 3
   },
   "file_extension": ".py",
   "mimetype": "text/x-python",
   "name": "python",
   "nbconvert_exporter": "python",
   "pygments_lexer": "ipython3",
   "version": "3.9.13"
  }
 },
 "nbformat": 4,
 "nbformat_minor": 5
}
